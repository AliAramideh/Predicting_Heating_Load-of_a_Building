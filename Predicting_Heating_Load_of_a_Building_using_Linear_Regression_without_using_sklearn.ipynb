{
  "cells": [
    {
      "cell_type": "markdown",
      "metadata": {
        "id": "view-in-github",
        "colab_type": "text"
      },
      "source": [
        "<a href=\"https://colab.research.google.com/github/AliAramideh/Predicting_Heating_Load-of_a_Building/blob/main/Predicting_Heating_Load_of_a_Building_using_Linear_Regression_without_using_sklearn.ipynb\" target=\"_parent\"><img src=\"https://colab.research.google.com/assets/colab-badge.svg\" alt=\"Open In Colab\"/></a>"
      ]
    },
    {
      "cell_type": "markdown",
      "metadata": {
        "id": "p03hoMY_KC5B"
      },
      "source": [
        "<h1 align=\"center\">An Introduction to Machine Learning - 25737</h1>\n",
        "<h4 align=\"center\">Dr. Sajjad Amini</h4>\n",
        "<h4 align=\"center\">Sharif University of Technology, Spring 2023</h4>\n",
        "\n",
        "**Student Name**:\n",
        "\n",
        "**Student ID**:\n",
        "\n",
        "# Linear Regression\n",
        "\n",
        "In this exercise, we want to examine **linear regression**. For this purpose, we have prepared a dataset in the `q1.csv` file. This dataset is used to estimate the **heating load** and **cooling load** of a building based on its parameters. The parameters in this dataset are explained below:\n",
        "\n",
        "- $X_1$: Relative Compactness\n",
        "- $X_2$: Surface Area\n",
        "- $X_3$: Wall Area\n",
        "- $X_4$: Roof Area\n",
        "- $X_5$: Overall Height\n",
        "- $X_6$: Orientation\n",
        "- $X_7$: Glazing Area\n",
        "- $X_8$: Glazing Area Distribution\n",
        "- $Y_1$: Heating Load\n",
        "- $Y_2$: Cooling Load\n",
        "\n",
        "**Note**: For the sake of simplicity, we will only focus on estimating the **heating load** in this problem. Also, please note that we have some inline questions in this notebook, for which you should write your answers in the **Answer** section below each question."
      ]
    },
    {
      "cell_type": "markdown",
      "metadata": {
        "id": "P6_GSec1OXRM"
      },
      "source": [
        "## Importing Libraries\n",
        "\n",
        "First we import libraries that we need for this assignment.\n",
        "\n",
        "**Attention**: You should only use these libraries. Other libraries are not acceptable."
      ]
    },
    {
      "cell_type": "code",
      "execution_count": 167,
      "metadata": {
        "id": "5u7kqX0wONrr"
      },
      "outputs": [],
      "source": [
        "import numpy as np\n",
        "import pandas as pd\n",
        "import matplotlib.pyplot as plt\n",
        "import seaborn as sns"
      ]
    },
    {
      "cell_type": "markdown",
      "metadata": {
        "id": "9he9c_YvMqAL"
      },
      "source": [
        "## Reading Data and Preprocessing\n",
        "\n",
        "In this section, we want to read data from a CSV file and then preprocess it to make it ready for the rest of the problem.\n",
        "\n",
        "First, we read the data in the cell below and extract an $m \\times n$ matrix, $X$, and an $m \\times 1$ vector, $Y$, from it, which represent our knowledge about the building (`X1`, `X2`, ..., `X8`) and heating load (`Y1`), respectively. Note that by $m$, we mean the number of data points and by $n$, we mean the number of features."
      ]
    },
    {
      "cell_type": "code",
      "source": [
        "url = 'https://github.com/AliAramideh/Predicting_Heating_Load-of_a_Building/raw/main/HeatingLoadOfBulding.csv'\n",
        "dataset = pd.read_csv(url)\n",
        "\n",
        "# Rename columns of dataset to the best name that we know\n",
        "dataset = dataset.rename(columns={'X1' : 'RelativeCompactness',\n",
        "                                  'X2' : 'SurfaceArea',\n",
        "                                  'X3': 'WallArea',\n",
        "                                  'X4' : 'RoofArea',\n",
        "                                  'X5' : 'OverallHeight',\n",
        "                                  'X6' : 'Orientation',\n",
        "                                  'X7' : 'GlazingArea',\n",
        "                                  'X8' : 'GlazingAreaDistribution',\n",
        "                                  'Y1' : 'HeatingLoad',\n",
        "                                  'Y2' : 'CoolingLoad'})\n",
        "dataset"
      ],
      "metadata": {
        "colab": {
          "base_uri": "https://localhost:8080/",
          "height": 423
        },
        "id": "ivYqIjby6pQ7",
        "outputId": "0d22f13c-b7ba-4a0f-ac7d-8ec0b29fc1bd"
      },
      "execution_count": 168,
      "outputs": [
        {
          "output_type": "execute_result",
          "data": {
            "text/plain": [
              "     RelativeCompactness  SurfaceArea  WallArea  RoofArea  OverallHeight  \\\n",
              "0                   0.98        514.5     294.0    110.25            7.0   \n",
              "1                   0.98        514.5     294.0    110.25            7.0   \n",
              "2                   0.98        514.5     294.0    110.25            7.0   \n",
              "3                   0.98        514.5     294.0    110.25            7.0   \n",
              "4                   0.90        563.5     318.5    122.50            7.0   \n",
              "..                   ...          ...       ...       ...            ...   \n",
              "763                 0.64        784.0     343.0    220.50            3.5   \n",
              "764                 0.62        808.5     367.5    220.50            3.5   \n",
              "765                 0.62        808.5     367.5    220.50            3.5   \n",
              "766                 0.62        808.5     367.5    220.50            3.5   \n",
              "767                 0.62        808.5     367.5    220.50            3.5   \n",
              "\n",
              "     Orientation  GlazingArea  GlazingAreaDistribution  HeatingLoad  \\\n",
              "0              2          0.0                        0        15.55   \n",
              "1              3          0.0                        0        15.55   \n",
              "2              4          0.0                        0        15.55   \n",
              "3              5          0.0                        0        15.55   \n",
              "4              2          0.0                        0        20.84   \n",
              "..           ...          ...                      ...          ...   \n",
              "763            5          0.4                        5        17.88   \n",
              "764            2          0.4                        5        16.54   \n",
              "765            3          0.4                        5        16.44   \n",
              "766            4          0.4                        5        16.48   \n",
              "767            5          0.4                        5        16.64   \n",
              "\n",
              "     CoolingLoad  \n",
              "0          21.33  \n",
              "1          21.33  \n",
              "2          21.33  \n",
              "3          21.33  \n",
              "4          28.28  \n",
              "..           ...  \n",
              "763        21.40  \n",
              "764        16.88  \n",
              "765        17.11  \n",
              "766        16.61  \n",
              "767        16.03  \n",
              "\n",
              "[768 rows x 10 columns]"
            ],
            "text/html": [
              "\n",
              "\n",
              "  <div id=\"df-70455b44-023d-49dc-938e-82f329071c78\">\n",
              "    <div class=\"colab-df-container\">\n",
              "      <div>\n",
              "<style scoped>\n",
              "    .dataframe tbody tr th:only-of-type {\n",
              "        vertical-align: middle;\n",
              "    }\n",
              "\n",
              "    .dataframe tbody tr th {\n",
              "        vertical-align: top;\n",
              "    }\n",
              "\n",
              "    .dataframe thead th {\n",
              "        text-align: right;\n",
              "    }\n",
              "</style>\n",
              "<table border=\"1\" class=\"dataframe\">\n",
              "  <thead>\n",
              "    <tr style=\"text-align: right;\">\n",
              "      <th></th>\n",
              "      <th>RelativeCompactness</th>\n",
              "      <th>SurfaceArea</th>\n",
              "      <th>WallArea</th>\n",
              "      <th>RoofArea</th>\n",
              "      <th>OverallHeight</th>\n",
              "      <th>Orientation</th>\n",
              "      <th>GlazingArea</th>\n",
              "      <th>GlazingAreaDistribution</th>\n",
              "      <th>HeatingLoad</th>\n",
              "      <th>CoolingLoad</th>\n",
              "    </tr>\n",
              "  </thead>\n",
              "  <tbody>\n",
              "    <tr>\n",
              "      <th>0</th>\n",
              "      <td>0.98</td>\n",
              "      <td>514.5</td>\n",
              "      <td>294.0</td>\n",
              "      <td>110.25</td>\n",
              "      <td>7.0</td>\n",
              "      <td>2</td>\n",
              "      <td>0.0</td>\n",
              "      <td>0</td>\n",
              "      <td>15.55</td>\n",
              "      <td>21.33</td>\n",
              "    </tr>\n",
              "    <tr>\n",
              "      <th>1</th>\n",
              "      <td>0.98</td>\n",
              "      <td>514.5</td>\n",
              "      <td>294.0</td>\n",
              "      <td>110.25</td>\n",
              "      <td>7.0</td>\n",
              "      <td>3</td>\n",
              "      <td>0.0</td>\n",
              "      <td>0</td>\n",
              "      <td>15.55</td>\n",
              "      <td>21.33</td>\n",
              "    </tr>\n",
              "    <tr>\n",
              "      <th>2</th>\n",
              "      <td>0.98</td>\n",
              "      <td>514.5</td>\n",
              "      <td>294.0</td>\n",
              "      <td>110.25</td>\n",
              "      <td>7.0</td>\n",
              "      <td>4</td>\n",
              "      <td>0.0</td>\n",
              "      <td>0</td>\n",
              "      <td>15.55</td>\n",
              "      <td>21.33</td>\n",
              "    </tr>\n",
              "    <tr>\n",
              "      <th>3</th>\n",
              "      <td>0.98</td>\n",
              "      <td>514.5</td>\n",
              "      <td>294.0</td>\n",
              "      <td>110.25</td>\n",
              "      <td>7.0</td>\n",
              "      <td>5</td>\n",
              "      <td>0.0</td>\n",
              "      <td>0</td>\n",
              "      <td>15.55</td>\n",
              "      <td>21.33</td>\n",
              "    </tr>\n",
              "    <tr>\n",
              "      <th>4</th>\n",
              "      <td>0.90</td>\n",
              "      <td>563.5</td>\n",
              "      <td>318.5</td>\n",
              "      <td>122.50</td>\n",
              "      <td>7.0</td>\n",
              "      <td>2</td>\n",
              "      <td>0.0</td>\n",
              "      <td>0</td>\n",
              "      <td>20.84</td>\n",
              "      <td>28.28</td>\n",
              "    </tr>\n",
              "    <tr>\n",
              "      <th>...</th>\n",
              "      <td>...</td>\n",
              "      <td>...</td>\n",
              "      <td>...</td>\n",
              "      <td>...</td>\n",
              "      <td>...</td>\n",
              "      <td>...</td>\n",
              "      <td>...</td>\n",
              "      <td>...</td>\n",
              "      <td>...</td>\n",
              "      <td>...</td>\n",
              "    </tr>\n",
              "    <tr>\n",
              "      <th>763</th>\n",
              "      <td>0.64</td>\n",
              "      <td>784.0</td>\n",
              "      <td>343.0</td>\n",
              "      <td>220.50</td>\n",
              "      <td>3.5</td>\n",
              "      <td>5</td>\n",
              "      <td>0.4</td>\n",
              "      <td>5</td>\n",
              "      <td>17.88</td>\n",
              "      <td>21.40</td>\n",
              "    </tr>\n",
              "    <tr>\n",
              "      <th>764</th>\n",
              "      <td>0.62</td>\n",
              "      <td>808.5</td>\n",
              "      <td>367.5</td>\n",
              "      <td>220.50</td>\n",
              "      <td>3.5</td>\n",
              "      <td>2</td>\n",
              "      <td>0.4</td>\n",
              "      <td>5</td>\n",
              "      <td>16.54</td>\n",
              "      <td>16.88</td>\n",
              "    </tr>\n",
              "    <tr>\n",
              "      <th>765</th>\n",
              "      <td>0.62</td>\n",
              "      <td>808.5</td>\n",
              "      <td>367.5</td>\n",
              "      <td>220.50</td>\n",
              "      <td>3.5</td>\n",
              "      <td>3</td>\n",
              "      <td>0.4</td>\n",
              "      <td>5</td>\n",
              "      <td>16.44</td>\n",
              "      <td>17.11</td>\n",
              "    </tr>\n",
              "    <tr>\n",
              "      <th>766</th>\n",
              "      <td>0.62</td>\n",
              "      <td>808.5</td>\n",
              "      <td>367.5</td>\n",
              "      <td>220.50</td>\n",
              "      <td>3.5</td>\n",
              "      <td>4</td>\n",
              "      <td>0.4</td>\n",
              "      <td>5</td>\n",
              "      <td>16.48</td>\n",
              "      <td>16.61</td>\n",
              "    </tr>\n",
              "    <tr>\n",
              "      <th>767</th>\n",
              "      <td>0.62</td>\n",
              "      <td>808.5</td>\n",
              "      <td>367.5</td>\n",
              "      <td>220.50</td>\n",
              "      <td>3.5</td>\n",
              "      <td>5</td>\n",
              "      <td>0.4</td>\n",
              "      <td>5</td>\n",
              "      <td>16.64</td>\n",
              "      <td>16.03</td>\n",
              "    </tr>\n",
              "  </tbody>\n",
              "</table>\n",
              "<p>768 rows × 10 columns</p>\n",
              "</div>\n",
              "      <button class=\"colab-df-convert\" onclick=\"convertToInteractive('df-70455b44-023d-49dc-938e-82f329071c78')\"\n",
              "              title=\"Convert this dataframe to an interactive table.\"\n",
              "              style=\"display:none;\">\n",
              "\n",
              "  <svg xmlns=\"http://www.w3.org/2000/svg\" height=\"24px\"viewBox=\"0 0 24 24\"\n",
              "       width=\"24px\">\n",
              "    <path d=\"M0 0h24v24H0V0z\" fill=\"none\"/>\n",
              "    <path d=\"M18.56 5.44l.94 2.06.94-2.06 2.06-.94-2.06-.94-.94-2.06-.94 2.06-2.06.94zm-11 1L8.5 8.5l.94-2.06 2.06-.94-2.06-.94L8.5 2.5l-.94 2.06-2.06.94zm10 10l.94 2.06.94-2.06 2.06-.94-2.06-.94-.94-2.06-.94 2.06-2.06.94z\"/><path d=\"M17.41 7.96l-1.37-1.37c-.4-.4-.92-.59-1.43-.59-.52 0-1.04.2-1.43.59L10.3 9.45l-7.72 7.72c-.78.78-.78 2.05 0 2.83L4 21.41c.39.39.9.59 1.41.59.51 0 1.02-.2 1.41-.59l7.78-7.78 2.81-2.81c.8-.78.8-2.07 0-2.86zM5.41 20L4 18.59l7.72-7.72 1.47 1.35L5.41 20z\"/>\n",
              "  </svg>\n",
              "      </button>\n",
              "\n",
              "\n",
              "\n",
              "    <div id=\"df-04cb8b7a-20f8-4a98-8a5b-5a96560b016f\">\n",
              "      <button class=\"colab-df-quickchart\" onclick=\"quickchart('df-04cb8b7a-20f8-4a98-8a5b-5a96560b016f')\"\n",
              "              title=\"Suggest charts.\"\n",
              "              style=\"display:none;\">\n",
              "\n",
              "<svg xmlns=\"http://www.w3.org/2000/svg\" height=\"24px\"viewBox=\"0 0 24 24\"\n",
              "     width=\"24px\">\n",
              "    <g>\n",
              "        <path d=\"M19 3H5c-1.1 0-2 .9-2 2v14c0 1.1.9 2 2 2h14c1.1 0 2-.9 2-2V5c0-1.1-.9-2-2-2zM9 17H7v-7h2v7zm4 0h-2V7h2v10zm4 0h-2v-4h2v4z\"/>\n",
              "    </g>\n",
              "</svg>\n",
              "      </button>\n",
              "    </div>\n",
              "\n",
              "<style>\n",
              "  .colab-df-quickchart {\n",
              "    background-color: #E8F0FE;\n",
              "    border: none;\n",
              "    border-radius: 50%;\n",
              "    cursor: pointer;\n",
              "    display: none;\n",
              "    fill: #1967D2;\n",
              "    height: 32px;\n",
              "    padding: 0 0 0 0;\n",
              "    width: 32px;\n",
              "  }\n",
              "\n",
              "  .colab-df-quickchart:hover {\n",
              "    background-color: #E2EBFA;\n",
              "    box-shadow: 0px 1px 2px rgba(60, 64, 67, 0.3), 0px 1px 3px 1px rgba(60, 64, 67, 0.15);\n",
              "    fill: #174EA6;\n",
              "  }\n",
              "\n",
              "  [theme=dark] .colab-df-quickchart {\n",
              "    background-color: #3B4455;\n",
              "    fill: #D2E3FC;\n",
              "  }\n",
              "\n",
              "  [theme=dark] .colab-df-quickchart:hover {\n",
              "    background-color: #434B5C;\n",
              "    box-shadow: 0px 1px 3px 1px rgba(0, 0, 0, 0.15);\n",
              "    filter: drop-shadow(0px 1px 2px rgba(0, 0, 0, 0.3));\n",
              "    fill: #FFFFFF;\n",
              "  }\n",
              "</style>\n",
              "\n",
              "    <script>\n",
              "      async function quickchart(key) {\n",
              "        const containerElement = document.querySelector('#' + key);\n",
              "        const charts = await google.colab.kernel.invokeFunction(\n",
              "            'suggestCharts', [key], {});\n",
              "      }\n",
              "    </script>\n",
              "\n",
              "      <script>\n",
              "\n",
              "function displayQuickchartButton(domScope) {\n",
              "  let quickchartButtonEl =\n",
              "    domScope.querySelector('#df-04cb8b7a-20f8-4a98-8a5b-5a96560b016f button.colab-df-quickchart');\n",
              "  quickchartButtonEl.style.display =\n",
              "    google.colab.kernel.accessAllowed ? 'block' : 'none';\n",
              "}\n",
              "\n",
              "        displayQuickchartButton(document);\n",
              "      </script>\n",
              "      <style>\n",
              "    .colab-df-container {\n",
              "      display:flex;\n",
              "      flex-wrap:wrap;\n",
              "      gap: 12px;\n",
              "    }\n",
              "\n",
              "    .colab-df-convert {\n",
              "      background-color: #E8F0FE;\n",
              "      border: none;\n",
              "      border-radius: 50%;\n",
              "      cursor: pointer;\n",
              "      display: none;\n",
              "      fill: #1967D2;\n",
              "      height: 32px;\n",
              "      padding: 0 0 0 0;\n",
              "      width: 32px;\n",
              "    }\n",
              "\n",
              "    .colab-df-convert:hover {\n",
              "      background-color: #E2EBFA;\n",
              "      box-shadow: 0px 1px 2px rgba(60, 64, 67, 0.3), 0px 1px 3px 1px rgba(60, 64, 67, 0.15);\n",
              "      fill: #174EA6;\n",
              "    }\n",
              "\n",
              "    [theme=dark] .colab-df-convert {\n",
              "      background-color: #3B4455;\n",
              "      fill: #D2E3FC;\n",
              "    }\n",
              "\n",
              "    [theme=dark] .colab-df-convert:hover {\n",
              "      background-color: #434B5C;\n",
              "      box-shadow: 0px 1px 3px 1px rgba(0, 0, 0, 0.15);\n",
              "      filter: drop-shadow(0px 1px 2px rgba(0, 0, 0, 0.3));\n",
              "      fill: #FFFFFF;\n",
              "    }\n",
              "  </style>\n",
              "\n",
              "      <script>\n",
              "        const buttonEl =\n",
              "          document.querySelector('#df-70455b44-023d-49dc-938e-82f329071c78 button.colab-df-convert');\n",
              "        buttonEl.style.display =\n",
              "          google.colab.kernel.accessAllowed ? 'block' : 'none';\n",
              "\n",
              "        async function convertToInteractive(key) {\n",
              "          const element = document.querySelector('#df-70455b44-023d-49dc-938e-82f329071c78');\n",
              "          const dataTable =\n",
              "            await google.colab.kernel.invokeFunction('convertToInteractive',\n",
              "                                                     [key], {});\n",
              "          if (!dataTable) return;\n",
              "\n",
              "          const docLinkHtml = 'Like what you see? Visit the ' +\n",
              "            '<a target=\"_blank\" href=https://colab.research.google.com/notebooks/data_table.ipynb>data table notebook</a>'\n",
              "            + ' to learn more about interactive tables.';\n",
              "          element.innerHTML = '';\n",
              "          dataTable['output_type'] = 'display_data';\n",
              "          await google.colab.output.renderOutput(dataTable, element);\n",
              "          const docLink = document.createElement('div');\n",
              "          docLink.innerHTML = docLinkHtml;\n",
              "          element.appendChild(docLink);\n",
              "        }\n",
              "      </script>\n",
              "    </div>\n",
              "  </div>\n"
            ]
          },
          "metadata": {},
          "execution_count": 168
        }
      ]
    },
    {
      "cell_type": "code",
      "execution_count": 169,
      "metadata": {
        "id": "bV10SRSaJ_DJ",
        "colab": {
          "base_uri": "https://localhost:8080/"
        },
        "outputId": "433b7480-69c5-42e4-ac31-366d607b3dfe"
      },
      "outputs": [
        {
          "output_type": "stream",
          "name": "stdout",
          "text": [
            "(768, 8)\n",
            "(768, 2)\n"
          ]
        }
      ],
      "source": [
        "X, Y = None, None\n",
        "\n",
        "# Initialaizing m, n:\n",
        "m = len(dataset.index)\n",
        "n = len(dataset.columns) - 2\n",
        "\n",
        "X = dataset.iloc[:, :n].values\n",
        "Y = dataset.iloc[:, n:n+2].values\n",
        "\n",
        "print(X.shape)\n",
        "print(Y.shape)"
      ]
    },
    {
      "cell_type": "markdown",
      "metadata": {
        "id": "EkZeww-2OAuX"
      },
      "source": [
        "Next, we should normalize our data. For normalizing a vector $\\mathbf{x}$, a very common method is to use this formula:\n",
        "\n",
        "$$\n",
        "\\mathbf{x}_{norm} = \\dfrac{\\mathbf{x} - \\overline{\\mathbf{x}}}{\\sigma_\\mathbf{x}}\n",
        "$$\n",
        "\n",
        "Here, $\\overline{x}$ and $\\sigma_\\mathbf{x}$ denote the mean and standard deviation of vector $\\mathbf{x}$, respectively. Use this formula and store the new $X$ and $Y$ vectors in the cell below.\n",
        "\n",
        "**Question**: Briefly explain why we need to normalize our data before starting the training.\n",
        "\n",
        "**Answer**:The goal of normalization is to change the values of numeric columns in the dataset to a common scale, without distorting differences in the ranges of values; normalization can help training of our neural networks as the different features are on a similar scale, which helps to stabilize the gradient descent step, allowing us to use larger learning rates or help models converge faster for a given learning rate"
      ]
    },
    {
      "cell_type": "code",
      "execution_count": 170,
      "metadata": {
        "id": "Y2i0bjxUPak2"
      },
      "outputs": [],
      "source": [
        "X_mean = np.mean(X, axis=0)\n",
        "X_std_dev = np.std(X, axis=0)\n",
        "\n",
        "Y_mean = np.mean(Y, axis=0)\n",
        "Y_std_dev = np.std(Y, axis=0)\n",
        "\n",
        "# Normalizing\n",
        "X_norm = (X - X_mean)/X_std_dev\n",
        "X = X_norm\n",
        "\n",
        "Y_norm = (Y - Y_mean)/Y_std_dev\n",
        "Y = Y_norm"
      ]
    },
    {
      "cell_type": "markdown",
      "metadata": {
        "id": "mvmHQ-mxQzDE"
      },
      "source": [
        "Finally, we should add a column of $1$s at the beginning of $X$ to represent the bias term. Do this in the next cell. Note that after this process, $X$ should be an $m \\times (n+1)$ matrix."
      ]
    },
    {
      "cell_type": "code",
      "execution_count": 171,
      "metadata": {
        "id": "QLfV7VQNRCfF",
        "colab": {
          "base_uri": "https://localhost:8080/"
        },
        "outputId": "ecaf25f9-a4b6-464b-e6be-47dd6895aebe"
      },
      "outputs": [
        {
          "output_type": "stream",
          "name": "stdout",
          "text": [
            "(768, 9)\n"
          ]
        }
      ],
      "source": [
        "ones_vec = np.ones(m)\n",
        "X = np.column_stack((X, ones_vec))\n",
        "\n",
        "print(X.shape)"
      ]
    },
    {
      "cell_type": "markdown",
      "metadata": {
        "id": "nO--dppbRsdb"
      },
      "source": [
        "## Training Model Using Direct Method\n",
        "\n",
        "We know that the loss function in linear regression is defined as:\n",
        "\n",
        "$$\n",
        "\\mathcal{L}(\\mathbf{w}) = \\frac{1}{m}\\sum_{i=1}^{m}(\\mathbf{w}^\\top\\mathbf{x}_i-y_i)^2\n",
        "$$\n",
        "\n",
        "Here, $w$ is the weight vector and $(x_i, y_i)$ represents the $i$th data point. First, write a function that takes $X$, $Y$, and $w$ as inputs and returns the loss value in the next cell. Note that your implementation should be fully vectorized, meaning that you are not allowed to use any loops in your function and should only use functions prepared in the numpy library."
      ]
    },
    {
      "cell_type": "code",
      "execution_count": 172,
      "metadata": {
        "id": "bSbXtyXCRzD3"
      },
      "outputs": [],
      "source": [
        "def loss(X, Y, w):\n",
        "  '''\n",
        "  X: an m by (n+1) matrix which includes inputs\n",
        "  Y: an m by 1 vector which includes heating loads\n",
        "  w: an (n+1) by 1 weight vector\n",
        "  '''\n",
        "  m, n = X.shape\n",
        "  loss = None\n",
        "\n",
        "  Y_pred = X @ w\n",
        "\n",
        "  sum_squared = (Y - Y_pred) ** 2\n",
        "  MSE = np.mean(sum_squared)\n",
        "  loss = MSE\n",
        "\n",
        "  return loss"
      ]
    },
    {
      "cell_type": "markdown",
      "metadata": {
        "id": "VuhSB9zaTfwm"
      },
      "source": [
        "Now, we want to calculate the weight matrix, $w$, using the direct method. By direct method, we mean finding the answer to the optimization problem below directly using linear algebra, without using iterative methods:\n",
        "\n",
        "$$\n",
        "\\min_{w} \\mathcal{L}(w)\n",
        "$$\n",
        "\n",
        "Question: What is the answer to this problem in terms of $X$ and $Y$?\n",
        "\n",
        "Answer:To find the optimal value of w that minimizes L(w), we can take the derivative of L(w) with respect to w and set it equal to zero:\n",
        "\n",
        "$$ \\frac{dL}{dw} = 2X^T(Xw - Y) = 0 $$\n",
        "\n",
        "Solving for w gives us:\n",
        "\n",
        "$$ w = (X^T X)^{-1} X^TY $$\n",
        "\n",
        "This formula gives us the weight matrix that minimizes the loss function and provides the best fit for our linear regression model.\n",
        "\n",
        "Now you should implement a function that receives $X$ and $Y$ as input and returns $w$. Note that your implementation should also be fully vectorized."
      ]
    },
    {
      "cell_type": "code",
      "execution_count": 173,
      "metadata": {
        "id": "-gCUK01DT-cW"
      },
      "outputs": [],
      "source": [
        "def direct_method(X, Y):\n",
        "  '''\n",
        "  X: an m by (n+1) matrix which includes inputs\n",
        "  Y: an m by 1 vector which includes heating loads\n",
        "  '''\n",
        "  w = None\n",
        "  w = np.linalg.inv(X.T @ X) @ X.T @ Y\n",
        "\n",
        "  return w"
      ]
    },
    {
      "cell_type": "markdown",
      "metadata": {
        "id": "thFIeOaSUvlw"
      },
      "source": [
        "Finally, we want to evaluate our loss for this problem. Run the cell below to calculate the loss of your model."
      ]
    },
    {
      "cell_type": "code",
      "execution_count": 174,
      "metadata": {
        "id": "6gGDh11VU8vF",
        "colab": {
          "base_uri": "https://localhost:8080/"
        },
        "outputId": "8c0854f6-9cdb-47f2-d24e-0a099dacf3e9"
      },
      "outputs": [
        {
          "output_type": "stream",
          "name": "stdout",
          "text": [
            "loss for this problem using direct method is 0.09902105768477039\n"
          ]
        }
      ],
      "source": [
        "w = direct_method(X, Y) # calculating w using direct method\n",
        "print(f\"loss for this problem using direct method is {loss(X, Y, w)}\")"
      ]
    },
    {
      "cell_type": "markdown",
      "metadata": {
        "id": "QaG14YG9VXiS"
      },
      "source": [
        "## Training Model Using Gradient Descent\n",
        "\n",
        "Now, instead of using the direct method to calculate $w$, we want to use the **Gradient Descent** algorithm. We know that in this algorithm, in each iteration, we should update our weight vector with:\n",
        "\n",
        "$$\n",
        "\\mathbf{w}^{(t+1)} = \\mathbf{w}^{(t)} - \\alpha \\nabla \\mathcal{L}(\\mathbf{w}^{(t)})\n",
        "$$\n",
        "\n",
        "Here, $w^{t}$ represents the weight matrix in the $t$th iteration, and $\\alpha$ represents the learning rate.\n",
        "\n",
        "**Question**: Write an expression for $\\nabla\\mathcal{L}(\\mathbf{w})$.\n",
        "\n",
        "**Answer**:\n",
        "$$\\nabla\\mathcal{L}(\\mathbf{w}) = \\frac{2}{m} \\mathbf{X}^\\top (\\mathbf{X}\\mathbf{w} - \\mathbf{y})$$\n",
        "\n",
        "Now, write a function that computes the gradient of $\\mathcal{L}(\\mathbf{w})$. This function should receive $X$, $Y$, and $\\mathbf{w}$ as inputs and return an $(n+1) \\times 1$ vector, which represents $\\nabla\\mathcal{L}(\\mathbf{w})$. Note that your implementation should also be **fully vectorized**."
      ]
    },
    {
      "cell_type": "code",
      "execution_count": 175,
      "metadata": {
        "id": "yqVQ-8I-VeVc"
      },
      "outputs": [],
      "source": [
        "def gradient(X, Y, w):\n",
        "  '''\n",
        "  X: an m by (n+1) matrix which includes inputs\n",
        "  Y: an m by 1 vector which includes heating loads\n",
        "  w: an (n+1) by 1 weight vector\n",
        "  '''\n",
        "  m, n = X.shape\n",
        "  grad = None\n",
        "  grad = (2/m) * X.T @ (np.dot(X,w)-Y)\n",
        "  return grad"
      ]
    },
    {
      "cell_type": "markdown",
      "metadata": {
        "id": "TJP5KaZzXz5K"
      },
      "source": [
        "Now, we are ready to implement the Gradient Descent algorithm. Complete the function below for this purpose. Note that this function receives $X$, $Y$, the learning rate, and the number of iterations as inputs. This function should return two parameters. The first parameter is $\\mathbf{w}$, and the second parameter is a `numpy` array that contains the loss in each iteration. This array is indicated by `loss_history` in the code. Also note that you should initialize $\\mathbf{w}$ with the `randn` function."
      ]
    },
    {
      "cell_type": "code",
      "execution_count": 176,
      "metadata": {
        "id": "qdfNjz5DYgD7"
      },
      "outputs": [],
      "source": [
        "def gradient_descent(X, Y, alpha, num_iter):\n",
        "  '''\n",
        "  X: an m by (n+1) matrix which includes inputs\n",
        "  Y: an m by 1 vector which includes heating loads\n",
        "  alpha: learning rate\n",
        "  num_iter: number of iterations of the algorithm\n",
        "  '''\n",
        "  m, n = X.shape\n",
        "  loss_history = []\n",
        "  w = np.random.randn(2 * n).reshape(n, 2)\n",
        "\n",
        "  for i in range(num_iter):\n",
        "    w -= alpha * gradient(X, Y, w)\n",
        "    loss_history.append(loss(X, Y, w))\n",
        "\n",
        "  return w, loss_history"
      ]
    },
    {
      "cell_type": "markdown",
      "metadata": {
        "id": "CjGioRweZK9O"
      },
      "source": [
        "Now, run the `gradient_descent` function for 5 different values of the learning rate. Plot the `loss_history` of these 5 different values in the same figure.\n",
        "\n",
        "**Question**: Discuss the effect of the learning rate and find the best value of this parameter.\n",
        "\n",
        "**Answer**:The learning rate is a hyperparameter in gradient descent that determines the step size at each iteration while moving towards a minimum of a loss function. The effect of the learning rate on the performance of gradient descent is significant, as it can affect both the speed and accuracy of convergence.\n",
        "\n",
        "\n",
        "If the learning rate is too small, the algorithm will take longer to converge, as it will take many small steps to reach the minimum. On the other hand, if the learning rate is too large, the algorithm may overshoot or oscillate around the minimum, leading to slower convergence or even divergence.\n",
        "\n",
        "\n",
        "Therefore, finding the best value for the learning rate is crucial for achieving optimal performance in gradient descent. One common approach is to start with a relatively large learning rate and gradually decrease it over time as convergence approaches. This approach is known as learning rate annealing.\n",
        "\n",
        "In practice, there is no one-size-fits-all solution for determining the best value of the learning rate. It often requires experimentation and tuning based on factors such as data complexity and model architecture. However, a good starting point for many problems is typically between 0.01 and 0.1."
      ]
    },
    {
      "cell_type": "code",
      "source": [
        "alpha_set = [0.01, 0.05, 0.08, 0.1, 0.3]\n",
        "num_iter = 5\n",
        "loss_history_set =[]\n",
        "\n",
        "for alpha in alpha_set:\n",
        "  w, loss_history = gradient_descent(X, Y, alpha, num_iter)\n",
        "  loss_history_set.append(loss_history)\n",
        "\n",
        "loss_history_set = np.array(loss_history_set)\n",
        "# sns.lineplot(loss_history_set)\n",
        "Loss = pd.DataFrame(data = loss_history_set)\n",
        "Loss.columns = alpha_set\n",
        "Loss = Loss.transpose()\n",
        "sns.lineplot(Loss)\n",
        "# plt.plot(alpha, loss_history_set)\n",
        "# plt.show()"
      ],
      "metadata": {
        "colab": {
          "base_uri": "https://localhost:8080/",
          "height": 451
        },
        "id": "vBa5bmMFdHCz",
        "outputId": "786ffa8a-35f4-4849-f5cd-3518a0c10d69"
      },
      "execution_count": 182,
      "outputs": [
        {
          "output_type": "execute_result",
          "data": {
            "text/plain": [
              "<Axes: >"
            ]
          },
          "metadata": {},
          "execution_count": 182
        },
        {
          "output_type": "display_data",
          "data": {
            "text/plain": [
              "<Figure size 640x480 with 1 Axes>"
            ],
            "image/png": "[encoded data removed]"
          },
          "metadata": {}
        }
      ]
    },
    {
      "cell_type": "markdown",
      "metadata": {
        "id": "k-lyJhZqZ18d"
      },
      "source": [
        "## Conclusion\n",
        "\n",
        "Compare the answer of two different methods that we used earlier.\n",
        "\n",
        "**Question**: Discuss these two methods and compare them with each other. When is it better to use the direct method, and when is it better to use Gradient Descent?\n",
        "\n",
        "**Answer**:The direct method is often faster than Gradient Descent for small datasets with few features. It can also be more accurate since it finds the exact solution to the optimization problem. However, it can be computationally expensive and impractical for large datasets with many features.\n",
        "\n",
        "\n",
        "Gradient Descent, on the other hand, is more scalable and efficient for large datasets with many features. It also allows for online learning, where new data can be incorporated into the model as it becomes available. However, it may converge to a suboptimal solution if the learning rate is not chosen carefully or if there are local minima in the loss function.\n",
        "\n",
        "\n",
        "In general, it is better to use the direct method when dealing with small datasets or when accuracy is paramount. Gradient Descent is better suited for large datasets or when scalability and efficiency are important considerations.\n",
        "\n",
        "\n",
        "Ultimately, the choice between these two methods depends on various factors such as dataset size, complexity of features, computational resources available, and desired level of accuracy."
      ]
    }
  ],
  "metadata": {
    "colab": {
      "provenance": [],
      "include_colab_link": true
    },
    "kernelspec": {
      "display_name": "Python 3",
      "name": "python3"
    },
    "language_info": {
      "name": "python"
    }
  },
  "nbformat": 4,
  "nbformat_minor": 0
}